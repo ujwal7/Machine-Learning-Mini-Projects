{
  "nbformat": 4,
  "nbformat_minor": 0,
  "metadata": {
    "colab": {
      "name": "Welcome To Colaboratory",
      "provenance": [],
      "collapsed_sections": [],
      "include_colab_link": true
    },
    "kernelspec": {
      "display_name": "Python 3",
      "name": "python3"
    }
  },
  "cells": [
    {
      "cell_type": "markdown",
      "metadata": {
        "id": "view-in-github",
        "colab_type": "text"
      },
      "source": [
        "<a href=\"https://colab.research.google.com/github/ujwal7/Machine-Learning-Mini-Projects/blob/main/Gender_Classifier.ipynb\" target=\"_parent\"><img src=\"https://colab.research.google.com/assets/colab-badge.svg\" alt=\"Open In Colab\"/></a>"
      ]
    },
    {
      "cell_type": "markdown",
      "metadata": {
        "id": "jZYjrozIc_T4"
      },
      "source": [
        "<h1>Gender Classifier based on Movie Dialogues<h1>"
      ]
    },
    {
      "cell_type": "markdown",
      "metadata": {
        "id": "HfubtXnidH6I"
      },
      "source": [
        "<h3>In this notebook we will classify gender based on movie dialgues. We will be using two datasets for this notebook that is Movie Characters MetaData and Movie Lines data. This notebook basically conveys on how to deal with data sets and what are the generic process we have to follow for data & predictive analytics.<h3>"
      ]
    },
    {
      "cell_type": "markdown",
      "metadata": {
        "id": "-wo-EyWLeGoq"
      },
      "source": [
        "Importing necessary libraries which will be used in the notebook."
      ]
    },
    {
      "cell_type": "code",
      "metadata": {
        "colab": {
          "base_uri": "https://localhost:8080/"
        },
        "id": "skp5xfUcRIj0",
        "outputId": "db7454c7-1b0d-4c8c-ffaa-da66a31f607b"
      },
      "source": [
        "import pandas as pd\n",
        "import numpy as np\n",
        "import re\n",
        "from nltk.corpus import stopwords\n",
        "from nltk.stem import WordNetLemmatizer\n",
        "import matplotlib.pyplot as plt\n",
        "import seaborn as sns\n",
        "import warnings\n",
        "import nltk\n",
        "import re\n",
        "nltk.download('stopwords')\n",
        "nltk.download('wordnet')\n",
        "from nltk.corpus import stopwords\n",
        "from sklearn.naive_bayes import MultinomialNB\n",
        "from sklearn import svm\n",
        "from sklearn.svm import LinearSVC\n",
        "from sklearn.linear_model import LogisticRegression\n",
        "from sklearn.ensemble import RandomForestClassifier\n",
        "from sklearn.metrics import classification_report, confusion_matrix\n"
      ],
      "execution_count": 1,
      "outputs": [
        {
          "output_type": "stream",
          "name": "stdout",
          "text": [
            "[nltk_data] Downloading package stopwords to /root/nltk_data...\n",
            "[nltk_data]   Unzipping corpora/stopwords.zip.\n",
            "[nltk_data] Downloading package wordnet to /root/nltk_data...\n",
            "[nltk_data]   Unzipping corpora/wordnet.zip.\n"
          ]
        }
      ]
    },
    {
      "cell_type": "markdown",
      "metadata": {
        "id": "fkxDE4wdebfn"
      },
      "source": [
        "<h2>Section 1: Gathering the Data & Data Cleaning."
      ]
    },
    {
      "cell_type": "markdown",
      "metadata": {
        "id": "zkr98U21fXgF"
      },
      "source": [
        "Importing data and storing it in the data frame variables with the help of pandas and its functions like read_csv(df_lines & df_chars). Checking the output of this step with the help of head functions which displays top 5 rows of the data frame created."
      ]
    },
    {
      "cell_type": "code",
      "metadata": {
        "colab": {
          "base_uri": "https://localhost:8080/",
          "height": 203
        },
        "id": "B1Y1GSxYRIy1",
        "outputId": "0b6548b9-ea30-4170-821e-2391d9a010ae"
      },
      "source": [
        "df_lines = pd.read_csv('movie_lines.tsv', sep='\\t', error_bad_lines=False,\n",
        "                       warn_bad_lines=False, header=None)\n",
        "df_char = pd.read_csv('movie_characters_metadata.tsv',sep='\\t', error_bad_lines=False,\n",
        "                       warn_bad_lines=False, header=None)\n",
        "\n",
        "df_char.head()"
      ],
      "execution_count": 2,
      "outputs": [
        {
          "output_type": "execute_result",
          "data": {
            "text/html": [
              "<div>\n",
              "<style scoped>\n",
              "    .dataframe tbody tr th:only-of-type {\n",
              "        vertical-align: middle;\n",
              "    }\n",
              "\n",
              "    .dataframe tbody tr th {\n",
              "        vertical-align: top;\n",
              "    }\n",
              "\n",
              "    .dataframe thead th {\n",
              "        text-align: right;\n",
              "    }\n",
              "</style>\n",
              "<table border=\"1\" class=\"dataframe\">\n",
              "  <thead>\n",
              "    <tr style=\"text-align: right;\">\n",
              "      <th></th>\n",
              "      <th>0</th>\n",
              "      <th>1</th>\n",
              "      <th>2</th>\n",
              "      <th>3</th>\n",
              "      <th>4</th>\n",
              "      <th>5</th>\n",
              "    </tr>\n",
              "  </thead>\n",
              "  <tbody>\n",
              "    <tr>\n",
              "      <th>0</th>\n",
              "      <td>u0</td>\n",
              "      <td>BIANCA</td>\n",
              "      <td>m0</td>\n",
              "      <td>10 things i hate about you</td>\n",
              "      <td>f</td>\n",
              "      <td>4</td>\n",
              "    </tr>\n",
              "    <tr>\n",
              "      <th>1</th>\n",
              "      <td>u1</td>\n",
              "      <td>BRUCE</td>\n",
              "      <td>m0</td>\n",
              "      <td>10 things i hate about you</td>\n",
              "      <td>?</td>\n",
              "      <td>?</td>\n",
              "    </tr>\n",
              "    <tr>\n",
              "      <th>2</th>\n",
              "      <td>u2</td>\n",
              "      <td>CAMERON</td>\n",
              "      <td>m0</td>\n",
              "      <td>10 things i hate about you</td>\n",
              "      <td>m</td>\n",
              "      <td>3</td>\n",
              "    </tr>\n",
              "    <tr>\n",
              "      <th>3</th>\n",
              "      <td>u3</td>\n",
              "      <td>CHASTITY</td>\n",
              "      <td>m0</td>\n",
              "      <td>10 things i hate about you</td>\n",
              "      <td>?</td>\n",
              "      <td>?</td>\n",
              "    </tr>\n",
              "    <tr>\n",
              "      <th>4</th>\n",
              "      <td>u4</td>\n",
              "      <td>JOEY</td>\n",
              "      <td>m0</td>\n",
              "      <td>10 things i hate about you</td>\n",
              "      <td>m</td>\n",
              "      <td>6</td>\n",
              "    </tr>\n",
              "  </tbody>\n",
              "</table>\n",
              "</div>"
            ],
            "text/plain": [
              "    0         1   2                           3  4  5\n",
              "0  u0    BIANCA  m0  10 things i hate about you  f  4\n",
              "1  u1     BRUCE  m0  10 things i hate about you  ?  ?\n",
              "2  u2   CAMERON  m0  10 things i hate about you  m  3\n",
              "3  u3  CHASTITY  m0  10 things i hate about you  ?  ?\n",
              "4  u4      JOEY  m0  10 things i hate about you  m  6"
            ]
          },
          "metadata": {},
          "execution_count": 2
        }
      ]
    },
    {
      "cell_type": "markdown",
      "metadata": {
        "id": "YBgmxpHZgKZK"
      },
      "source": [
        "Checking the default columns names."
      ]
    },
    {
      "cell_type": "code",
      "metadata": {
        "colab": {
          "base_uri": "https://localhost:8080/"
        },
        "id": "eWXRPANtRI_n",
        "outputId": "177d070b-e16a-4bba-96c9-091f32d8e4d3"
      },
      "source": [
        "df_char.columns"
      ],
      "execution_count": 3,
      "outputs": [
        {
          "output_type": "execute_result",
          "data": {
            "text/plain": [
              "Int64Index([0, 1, 2, 3, 4, 5], dtype='int64')"
            ]
          },
          "metadata": {},
          "execution_count": 3
        }
      ]
    },
    {
      "cell_type": "markdown",
      "metadata": {
        "id": "1_32SRVwgO2o"
      },
      "source": [
        "Changing the column names so that it will be helpful for us in data visualization and in predicitive analytics. Post changing the column names, checking the output with the help of head function."
      ]
    },
    {
      "cell_type": "code",
      "metadata": {
        "colab": {
          "base_uri": "https://localhost:8080/",
          "height": 203
        },
        "id": "mYTElzh5RJDd",
        "outputId": "1ef845f5-0a99-41bc-a92b-04690c1ce4c9"
      },
      "source": [
        "df_char.columns=['char_Id','char_Name','mov_Id','mov_Name','gender','pos_Credits']\n",
        "df_char.head()"
      ],
      "execution_count": 4,
      "outputs": [
        {
          "output_type": "execute_result",
          "data": {
            "text/html": [
              "<div>\n",
              "<style scoped>\n",
              "    .dataframe tbody tr th:only-of-type {\n",
              "        vertical-align: middle;\n",
              "    }\n",
              "\n",
              "    .dataframe tbody tr th {\n",
              "        vertical-align: top;\n",
              "    }\n",
              "\n",
              "    .dataframe thead th {\n",
              "        text-align: right;\n",
              "    }\n",
              "</style>\n",
              "<table border=\"1\" class=\"dataframe\">\n",
              "  <thead>\n",
              "    <tr style=\"text-align: right;\">\n",
              "      <th></th>\n",
              "      <th>char_Id</th>\n",
              "      <th>char_Name</th>\n",
              "      <th>mov_Id</th>\n",
              "      <th>mov_Name</th>\n",
              "      <th>gender</th>\n",
              "      <th>pos_Credits</th>\n",
              "    </tr>\n",
              "  </thead>\n",
              "  <tbody>\n",
              "    <tr>\n",
              "      <th>0</th>\n",
              "      <td>u0</td>\n",
              "      <td>BIANCA</td>\n",
              "      <td>m0</td>\n",
              "      <td>10 things i hate about you</td>\n",
              "      <td>f</td>\n",
              "      <td>4</td>\n",
              "    </tr>\n",
              "    <tr>\n",
              "      <th>1</th>\n",
              "      <td>u1</td>\n",
              "      <td>BRUCE</td>\n",
              "      <td>m0</td>\n",
              "      <td>10 things i hate about you</td>\n",
              "      <td>?</td>\n",
              "      <td>?</td>\n",
              "    </tr>\n",
              "    <tr>\n",
              "      <th>2</th>\n",
              "      <td>u2</td>\n",
              "      <td>CAMERON</td>\n",
              "      <td>m0</td>\n",
              "      <td>10 things i hate about you</td>\n",
              "      <td>m</td>\n",
              "      <td>3</td>\n",
              "    </tr>\n",
              "    <tr>\n",
              "      <th>3</th>\n",
              "      <td>u3</td>\n",
              "      <td>CHASTITY</td>\n",
              "      <td>m0</td>\n",
              "      <td>10 things i hate about you</td>\n",
              "      <td>?</td>\n",
              "      <td>?</td>\n",
              "    </tr>\n",
              "    <tr>\n",
              "      <th>4</th>\n",
              "      <td>u4</td>\n",
              "      <td>JOEY</td>\n",
              "      <td>m0</td>\n",
              "      <td>10 things i hate about you</td>\n",
              "      <td>m</td>\n",
              "      <td>6</td>\n",
              "    </tr>\n",
              "  </tbody>\n",
              "</table>\n",
              "</div>"
            ],
            "text/plain": [
              "  char_Id char_Name mov_Id                    mov_Name gender pos_Credits\n",
              "0      u0    BIANCA     m0  10 things i hate about you      f           4\n",
              "1      u1     BRUCE     m0  10 things i hate about you      ?           ?\n",
              "2      u2   CAMERON     m0  10 things i hate about you      m           3\n",
              "3      u3  CHASTITY     m0  10 things i hate about you      ?           ?\n",
              "4      u4      JOEY     m0  10 things i hate about you      m           6"
            ]
          },
          "metadata": {},
          "execution_count": 4
        }
      ]
    },
    {
      "cell_type": "markdown",
      "metadata": {
        "id": "p9GwUhIMgl3_"
      },
      "source": [
        "Getting the information of the dataframe which we have created with the help of info command."
      ]
    },
    {
      "cell_type": "code",
      "metadata": {
        "colab": {
          "base_uri": "https://localhost:8080/"
        },
        "id": "OVGvlhHQRJHQ",
        "outputId": "f9342cec-3095-4cb6-de7c-563222627c58"
      },
      "source": [
        "df_char.info()"
      ],
      "execution_count": 5,
      "outputs": [
        {
          "output_type": "stream",
          "name": "stdout",
          "text": [
            "<class 'pandas.core.frame.DataFrame'>\n",
            "RangeIndex: 9034 entries, 0 to 9033\n",
            "Data columns (total 6 columns):\n",
            " #   Column       Non-Null Count  Dtype \n",
            "---  ------       --------------  ----- \n",
            " 0   char_Id      9034 non-null   object\n",
            " 1   char_Name    9015 non-null   object\n",
            " 2   mov_Id       9017 non-null   object\n",
            " 3   mov_Name     9017 non-null   object\n",
            " 4   gender       9017 non-null   object\n",
            " 5   pos_Credits  9017 non-null   object\n",
            "dtypes: object(6)\n",
            "memory usage: 423.6+ KB\n"
          ]
        }
      ]
    },
    {
      "cell_type": "markdown",
      "metadata": {
        "id": "el8M-NuLguo3"
      },
      "source": [
        "Checking the shape of the data frame."
      ]
    },
    {
      "cell_type": "code",
      "metadata": {
        "colab": {
          "base_uri": "https://localhost:8080/"
        },
        "id": "KoCEJFCbRJKs",
        "outputId": "1aea4cc3-8224-4528-a503-46135af4e1ad"
      },
      "source": [
        "df_char.shape"
      ],
      "execution_count": 10,
      "outputs": [
        {
          "output_type": "execute_result",
          "data": {
            "text/plain": [
              "(9034, 6)"
            ]
          },
          "metadata": {},
          "execution_count": 10
        }
      ]
    },
    {
      "cell_type": "markdown",
      "metadata": {
        "id": "TM0srybag1ga"
      },
      "source": [
        "Checking the number of null values present in our dataset with the help of isna() and sum() function. "
      ]
    },
    {
      "cell_type": "code",
      "metadata": {
        "colab": {
          "base_uri": "https://localhost:8080/"
        },
        "id": "tiH1lPfJRJNs",
        "outputId": "a7752f74-8984-47ae-bda4-b643d5c69df6"
      },
      "source": [
        "#Checking the number of null values present in the data set. \n",
        "df_char.isna().sum()"
      ],
      "execution_count": 7,
      "outputs": [
        {
          "output_type": "execute_result",
          "data": {
            "text/plain": [
              "char_Id         0\n",
              "char_Name      19\n",
              "mov_Id         17\n",
              "mov_Name       17\n",
              "gender         17\n",
              "pos_Credits    17\n",
              "dtype: int64"
            ]
          },
          "metadata": {},
          "execution_count": 7
        }
      ]
    },
    {
      "cell_type": "markdown",
      "metadata": {
        "id": "PKrBx4gShBak"
      },
      "source": [
        "Checking the percentage of null values present in respective column in the data set."
      ]
    },
    {
      "cell_type": "code",
      "metadata": {
        "colab": {
          "base_uri": "https://localhost:8080/"
        },
        "id": "W_nS4VoERJRY",
        "outputId": "0fbfcd03-ca0a-4177-c3b9-b85a06eefca4"
      },
      "source": [
        "#Now we are calculating the percentage of null values present in the data set(column wise).\n",
        "print('Percentage of Null values with respect to columns in the dataset')\n",
        "100* df_char.isnull().sum()/len(df_char)"
      ],
      "execution_count": 11,
      "outputs": [
        {
          "output_type": "stream",
          "name": "stdout",
          "text": [
            "Percentage of Null values with respect to columns in the dataset\n"
          ]
        },
        {
          "output_type": "execute_result",
          "data": {
            "text/plain": [
              "char_Id        0.000000\n",
              "char_Name      0.210317\n",
              "mov_Id         0.188178\n",
              "mov_Name       0.188178\n",
              "gender         0.188178\n",
              "pos_Credits    0.188178\n",
              "dtype: float64"
            ]
          },
          "metadata": {},
          "execution_count": 11
        }
      ]
    },
    {
      "cell_type": "markdown",
      "metadata": {
        "id": "ohQea2_RhUdy"
      },
      "source": [
        "Now we will check the type of values present in our target column which is \"Gender\". It will be done with the help of value_counts() function."
      ]
    },
    {
      "cell_type": "code",
      "metadata": {
        "colab": {
          "base_uri": "https://localhost:8080/"
        },
        "id": "0O1ubnYtRJUf",
        "outputId": "f4bf18e3-43fd-4d3e-8ee9-b98d82084d38"
      },
      "source": [
        "df_char['gender'].value_counts()"
      ],
      "execution_count": 12,
      "outputs": [
        {
          "output_type": "execute_result",
          "data": {
            "text/plain": [
              "?    6008\n",
              "m    1899\n",
              "f     921\n",
              "M     145\n",
              "F      44\n",
              "Name: gender, dtype: int64"
            ]
          },
          "metadata": {},
          "execution_count": 12
        }
      ]
    },
    {
      "cell_type": "markdown",
      "metadata": {
        "id": "jOLP844FhiL8"
      },
      "source": [
        "From the above step, we got the output that is types of values present in \"Gender\" column and some of them are not required and some of them are duplicates. That is m and f. So we will convert these into M and F and will drop the ? values from the data frame."
      ]
    },
    {
      "cell_type": "code",
      "metadata": {
        "colab": {
          "base_uri": "https://localhost:8080/"
        },
        "id": "UKzesw3XSDwk",
        "outputId": "6cedbd3f-85ae-4b48-dbe8-0bc59777bf3c"
      },
      "source": [
        "#changing the values\n",
        "df_char.replace('m','M', inplace = True)\n",
        "df_char.replace('f','F', inplace = True)\n",
        "df_char['gender'].value_counts()"
      ],
      "execution_count": 13,
      "outputs": [
        {
          "output_type": "execute_result",
          "data": {
            "text/plain": [
              "?    6008\n",
              "M    2044\n",
              "F     965\n",
              "Name: gender, dtype: int64"
            ]
          },
          "metadata": {},
          "execution_count": 13
        }
      ]
    },
    {
      "cell_type": "code",
      "metadata": {
        "colab": {
          "base_uri": "https://localhost:8080/"
        },
        "id": "xlQlxHwvSD8q",
        "outputId": "63bb0919-528a-4efb-9d35-1a5b206a964f"
      },
      "source": [
        "# dropping passed values\n",
        "df_char.drop(df_char.index[df_char['gender'] == '?'], inplace = True)\n",
        "df_char['gender'].value_counts()"
      ],
      "execution_count": 14,
      "outputs": [
        {
          "output_type": "execute_result",
          "data": {
            "text/plain": [
              "M    2044\n",
              "F     965\n",
              "Name: gender, dtype: int64"
            ]
          },
          "metadata": {},
          "execution_count": 14
        }
      ]
    },
    {
      "cell_type": "markdown",
      "metadata": {
        "id": "sBN5vz9wiOid"
      },
      "source": [
        "In the post credit column, it had many non unique values, so here we are seggregating it into 1-9 and then to 10+ with the help of lambda function which will excute to value present in post credit column and it will seggregate it based on the condition which we have written."
      ]
    },
    {
      "cell_type": "code",
      "metadata": {
        "colab": {
          "base_uri": "https://localhost:8080/"
        },
        "id": "q7bLW51RSEAF",
        "outputId": "6acf33b3-90ea-4fdb-95e8-21102d622f03"
      },
      "source": [
        "#Generalizing post credit column\n",
        "df_char['pos_Credits'] = df_char['pos_Credits'].apply(lambda p: '10+' if not p in ['1', '2', '3', '4', '5', '6', '7', '8', '9'] else p)  ## Label encoding\n",
        "df_char['pos_Credits'].value_counts()"
      ],
      "execution_count": 15,
      "outputs": [
        {
          "output_type": "execute_result",
          "data": {
            "text/plain": [
              "10+    782\n",
              "1      497\n",
              "2      443\n",
              "3      352\n",
              "4      268\n",
              "5      211\n",
              "6      169\n",
              "7      125\n",
              "8      100\n",
              "9       79\n",
              "Name: pos_Credits, dtype: int64"
            ]
          },
          "metadata": {},
          "execution_count": 15
        }
      ]
    },
    {
      "cell_type": "markdown",
      "metadata": {
        "id": "Nwx4ZEhIjRiE"
      },
      "source": [
        "Checking the column names of movie lines dataset(df_lines is the dataframe which is created for this)."
      ]
    },
    {
      "cell_type": "code",
      "metadata": {
        "colab": {
          "base_uri": "https://localhost:8080/"
        },
        "id": "AWNO4ri_SEDg",
        "outputId": "4c32aff2-e610-4a11-b098-509b7f042f0a"
      },
      "source": [
        "df_lines.columns"
      ],
      "execution_count": 16,
      "outputs": [
        {
          "output_type": "execute_result",
          "data": {
            "text/plain": [
              "Int64Index([0, 1, 2, 3, 4], dtype='int64')"
            ]
          },
          "metadata": {},
          "execution_count": 16
        }
      ]
    },
    {
      "cell_type": "markdown",
      "metadata": {
        "id": "JXkJNBXxjchv"
      },
      "source": [
        "Changing the column name as per the values which they are having."
      ]
    },
    {
      "cell_type": "code",
      "metadata": {
        "colab": {
          "base_uri": "https://localhost:8080/",
          "height": 203
        },
        "id": "zm11cSywSEGX",
        "outputId": "3b09f13d-ab46-4f37-a748-8e00ec4136d9"
      },
      "source": [
        "df_lines.columns = ['line_ID','char_Id','mov_Id','char_Name','dialogue']\n",
        "df_lines.head()"
      ],
      "execution_count": 17,
      "outputs": [
        {
          "output_type": "execute_result",
          "data": {
            "text/html": [
              "<div>\n",
              "<style scoped>\n",
              "    .dataframe tbody tr th:only-of-type {\n",
              "        vertical-align: middle;\n",
              "    }\n",
              "\n",
              "    .dataframe tbody tr th {\n",
              "        vertical-align: top;\n",
              "    }\n",
              "\n",
              "    .dataframe thead th {\n",
              "        text-align: right;\n",
              "    }\n",
              "</style>\n",
              "<table border=\"1\" class=\"dataframe\">\n",
              "  <thead>\n",
              "    <tr style=\"text-align: right;\">\n",
              "      <th></th>\n",
              "      <th>line_ID</th>\n",
              "      <th>char_Id</th>\n",
              "      <th>mov_Id</th>\n",
              "      <th>char_Name</th>\n",
              "      <th>dialogue</th>\n",
              "    </tr>\n",
              "  </thead>\n",
              "  <tbody>\n",
              "    <tr>\n",
              "      <th>0</th>\n",
              "      <td>L1045</td>\n",
              "      <td>u0</td>\n",
              "      <td>m0</td>\n",
              "      <td>BIANCA</td>\n",
              "      <td>They do not!</td>\n",
              "    </tr>\n",
              "    <tr>\n",
              "      <th>1</th>\n",
              "      <td>L1044</td>\n",
              "      <td>u2</td>\n",
              "      <td>m0</td>\n",
              "      <td>CAMERON</td>\n",
              "      <td>They do to!</td>\n",
              "    </tr>\n",
              "    <tr>\n",
              "      <th>2</th>\n",
              "      <td>L985</td>\n",
              "      <td>u0</td>\n",
              "      <td>m0</td>\n",
              "      <td>BIANCA</td>\n",
              "      <td>I hope so.</td>\n",
              "    </tr>\n",
              "    <tr>\n",
              "      <th>3</th>\n",
              "      <td>L984</td>\n",
              "      <td>u2</td>\n",
              "      <td>m0</td>\n",
              "      <td>CAMERON</td>\n",
              "      <td>She okay?</td>\n",
              "    </tr>\n",
              "    <tr>\n",
              "      <th>4</th>\n",
              "      <td>L925</td>\n",
              "      <td>u0</td>\n",
              "      <td>m0</td>\n",
              "      <td>BIANCA</td>\n",
              "      <td>Let's go.</td>\n",
              "    </tr>\n",
              "  </tbody>\n",
              "</table>\n",
              "</div>"
            ],
            "text/plain": [
              "  line_ID char_Id mov_Id char_Name      dialogue\n",
              "0   L1045      u0     m0    BIANCA  They do not!\n",
              "1   L1044      u2     m0   CAMERON   They do to!\n",
              "2    L985      u0     m0    BIANCA    I hope so.\n",
              "3    L984      u2     m0   CAMERON     She okay?\n",
              "4    L925      u0     m0    BIANCA     Let's go."
            ]
          },
          "metadata": {},
          "execution_count": 17
        }
      ]
    },
    {
      "cell_type": "markdown",
      "metadata": {
        "id": "918c1ib9jkMk"
      },
      "source": [
        "Now we are merging the two dataframes which we have created. We are using inner join for the connection and on the columns such as movie id, character id and character name. After merging, we are checking the answer with the help of head function."
      ]
    },
    {
      "cell_type": "code",
      "metadata": {
        "colab": {
          "base_uri": "https://localhost:8080/",
          "height": 203
        },
        "id": "rwjwxHPBSEPp",
        "outputId": "0c35e843-9e12-4693-dd38-7c57bc512874"
      },
      "source": [
        "df_merge = pd.merge(df_lines,df_char , how='inner', on=['char_Id','mov_Id','char_Name'],\n",
        "         left_index=False, right_index=False, sort=True,\n",
        "         copy=False, indicator=False)\n",
        "df_merge.head()"
      ],
      "execution_count": 18,
      "outputs": [
        {
          "output_type": "execute_result",
          "data": {
            "text/html": [
              "<div>\n",
              "<style scoped>\n",
              "    .dataframe tbody tr th:only-of-type {\n",
              "        vertical-align: middle;\n",
              "    }\n",
              "\n",
              "    .dataframe tbody tr th {\n",
              "        vertical-align: top;\n",
              "    }\n",
              "\n",
              "    .dataframe thead th {\n",
              "        text-align: right;\n",
              "    }\n",
              "</style>\n",
              "<table border=\"1\" class=\"dataframe\">\n",
              "  <thead>\n",
              "    <tr style=\"text-align: right;\">\n",
              "      <th></th>\n",
              "      <th>line_ID</th>\n",
              "      <th>char_Id</th>\n",
              "      <th>mov_Id</th>\n",
              "      <th>char_Name</th>\n",
              "      <th>dialogue</th>\n",
              "      <th>mov_Name</th>\n",
              "      <th>gender</th>\n",
              "      <th>pos_Credits</th>\n",
              "    </tr>\n",
              "  </thead>\n",
              "  <tbody>\n",
              "    <tr>\n",
              "      <th>0</th>\n",
              "      <td>L1045</td>\n",
              "      <td>u0</td>\n",
              "      <td>m0</td>\n",
              "      <td>BIANCA</td>\n",
              "      <td>They do not!</td>\n",
              "      <td>10 things i hate about you</td>\n",
              "      <td>F</td>\n",
              "      <td>4</td>\n",
              "    </tr>\n",
              "    <tr>\n",
              "      <th>1</th>\n",
              "      <td>L985</td>\n",
              "      <td>u0</td>\n",
              "      <td>m0</td>\n",
              "      <td>BIANCA</td>\n",
              "      <td>I hope so.</td>\n",
              "      <td>10 things i hate about you</td>\n",
              "      <td>F</td>\n",
              "      <td>4</td>\n",
              "    </tr>\n",
              "    <tr>\n",
              "      <th>2</th>\n",
              "      <td>L925</td>\n",
              "      <td>u0</td>\n",
              "      <td>m0</td>\n",
              "      <td>BIANCA</td>\n",
              "      <td>Let's go.</td>\n",
              "      <td>10 things i hate about you</td>\n",
              "      <td>F</td>\n",
              "      <td>4</td>\n",
              "    </tr>\n",
              "    <tr>\n",
              "      <th>3</th>\n",
              "      <td>L872</td>\n",
              "      <td>u0</td>\n",
              "      <td>m0</td>\n",
              "      <td>BIANCA</td>\n",
              "      <td>Okay -- you're gonna need to learn how to lie.</td>\n",
              "      <td>10 things i hate about you</td>\n",
              "      <td>F</td>\n",
              "      <td>4</td>\n",
              "    </tr>\n",
              "    <tr>\n",
              "      <th>4</th>\n",
              "      <td>L869</td>\n",
              "      <td>u0</td>\n",
              "      <td>m0</td>\n",
              "      <td>BIANCA</td>\n",
              "      <td>Like my fear of wearing pastels?</td>\n",
              "      <td>10 things i hate about you</td>\n",
              "      <td>F</td>\n",
              "      <td>4</td>\n",
              "    </tr>\n",
              "  </tbody>\n",
              "</table>\n",
              "</div>"
            ],
            "text/plain": [
              "  line_ID char_Id mov_Id  ...                    mov_Name gender pos_Credits\n",
              "0   L1045      u0     m0  ...  10 things i hate about you      F           4\n",
              "1    L985      u0     m0  ...  10 things i hate about you      F           4\n",
              "2    L925      u0     m0  ...  10 things i hate about you      F           4\n",
              "3    L872      u0     m0  ...  10 things i hate about you      F           4\n",
              "4    L869      u0     m0  ...  10 things i hate about you      F           4\n",
              "\n",
              "[5 rows x 8 columns]"
            ]
          },
          "metadata": {},
          "execution_count": 18
        }
      ]
    },
    {
      "cell_type": "markdown",
      "metadata": {
        "id": "qQFmB8xhj9ph"
      },
      "source": [
        "Checking the shape of the newly created data frame."
      ]
    },
    {
      "cell_type": "code",
      "metadata": {
        "colab": {
          "base_uri": "https://localhost:8080/"
        },
        "id": "7Rhir61TSESD",
        "outputId": "01789e20-703f-4246-a616-1a2cccbefe4b"
      },
      "source": [
        "df_merge.shape"
      ],
      "execution_count": 19,
      "outputs": [
        {
          "output_type": "execute_result",
          "data": {
            "text/plain": [
              "(127698, 8)"
            ]
          },
          "metadata": {},
          "execution_count": 19
        }
      ]
    },
    {
      "cell_type": "markdown",
      "metadata": {
        "id": "W-fdf3CTkCkZ"
      },
      "source": [
        "Checking the  number of null values present in the data frame with the help of isna() and sum() function and then reoving the null values."
      ]
    },
    {
      "cell_type": "code",
      "metadata": {
        "colab": {
          "base_uri": "https://localhost:8080/"
        },
        "id": "vNwnlJY-SEXy",
        "outputId": "8532a03f-7143-4b90-b6b3-3bd5a178b19f"
      },
      "source": [
        "df_merge.isna().sum()"
      ],
      "execution_count": 20,
      "outputs": [
        {
          "output_type": "execute_result",
          "data": {
            "text/plain": [
              "line_ID          0\n",
              "char_Id          0\n",
              "mov_Id           0\n",
              "char_Name        0\n",
              "dialogue       188\n",
              "mov_Name         0\n",
              "gender           0\n",
              "pos_Credits      0\n",
              "dtype: int64"
            ]
          },
          "metadata": {},
          "execution_count": 20
        }
      ]
    },
    {
      "cell_type": "code",
      "metadata": {
        "colab": {
          "base_uri": "https://localhost:8080/",
          "height": 417
        },
        "id": "K4gy46xbSEaQ",
        "outputId": "eca87f36-24fb-4149-a171-e91798f6448b"
      },
      "source": [
        "#removing null values with the help of dropna function\n",
        "df_merge.dropna()"
      ],
      "execution_count": 21,
      "outputs": [
        {
          "output_type": "execute_result",
          "data": {
            "text/html": [
              "<div>\n",
              "<style scoped>\n",
              "    .dataframe tbody tr th:only-of-type {\n",
              "        vertical-align: middle;\n",
              "    }\n",
              "\n",
              "    .dataframe tbody tr th {\n",
              "        vertical-align: top;\n",
              "    }\n",
              "\n",
              "    .dataframe thead th {\n",
              "        text-align: right;\n",
              "    }\n",
              "</style>\n",
              "<table border=\"1\" class=\"dataframe\">\n",
              "  <thead>\n",
              "    <tr style=\"text-align: right;\">\n",
              "      <th></th>\n",
              "      <th>line_ID</th>\n",
              "      <th>char_Id</th>\n",
              "      <th>mov_Id</th>\n",
              "      <th>char_Name</th>\n",
              "      <th>dialogue</th>\n",
              "      <th>mov_Name</th>\n",
              "      <th>gender</th>\n",
              "      <th>pos_Credits</th>\n",
              "    </tr>\n",
              "  </thead>\n",
              "  <tbody>\n",
              "    <tr>\n",
              "      <th>0</th>\n",
              "      <td>L1045</td>\n",
              "      <td>u0</td>\n",
              "      <td>m0</td>\n",
              "      <td>BIANCA</td>\n",
              "      <td>They do not!</td>\n",
              "      <td>10 things i hate about you</td>\n",
              "      <td>F</td>\n",
              "      <td>4</td>\n",
              "    </tr>\n",
              "    <tr>\n",
              "      <th>1</th>\n",
              "      <td>L985</td>\n",
              "      <td>u0</td>\n",
              "      <td>m0</td>\n",
              "      <td>BIANCA</td>\n",
              "      <td>I hope so.</td>\n",
              "      <td>10 things i hate about you</td>\n",
              "      <td>F</td>\n",
              "      <td>4</td>\n",
              "    </tr>\n",
              "    <tr>\n",
              "      <th>2</th>\n",
              "      <td>L925</td>\n",
              "      <td>u0</td>\n",
              "      <td>m0</td>\n",
              "      <td>BIANCA</td>\n",
              "      <td>Let's go.</td>\n",
              "      <td>10 things i hate about you</td>\n",
              "      <td>F</td>\n",
              "      <td>4</td>\n",
              "    </tr>\n",
              "    <tr>\n",
              "      <th>3</th>\n",
              "      <td>L872</td>\n",
              "      <td>u0</td>\n",
              "      <td>m0</td>\n",
              "      <td>BIANCA</td>\n",
              "      <td>Okay -- you're gonna need to learn how to lie.</td>\n",
              "      <td>10 things i hate about you</td>\n",
              "      <td>F</td>\n",
              "      <td>4</td>\n",
              "    </tr>\n",
              "    <tr>\n",
              "      <th>4</th>\n",
              "      <td>L869</td>\n",
              "      <td>u0</td>\n",
              "      <td>m0</td>\n",
              "      <td>BIANCA</td>\n",
              "      <td>Like my fear of wearing pastels?</td>\n",
              "      <td>10 things i hate about you</td>\n",
              "      <td>F</td>\n",
              "      <td>4</td>\n",
              "    </tr>\n",
              "    <tr>\n",
              "      <th>...</th>\n",
              "      <td>...</td>\n",
              "      <td>...</td>\n",
              "      <td>...</td>\n",
              "      <td>...</td>\n",
              "      <td>...</td>\n",
              "      <td>...</td>\n",
              "      <td>...</td>\n",
              "      <td>...</td>\n",
              "    </tr>\n",
              "    <tr>\n",
              "      <th>127693</th>\n",
              "      <td>L227685</td>\n",
              "      <td>u998</td>\n",
              "      <td>m65</td>\n",
              "      <td>KATE</td>\n",
              "      <td>Yes.</td>\n",
              "      <td>from dusk till dawn</td>\n",
              "      <td>F</td>\n",
              "      <td>4</td>\n",
              "    </tr>\n",
              "    <tr>\n",
              "      <th>127694</th>\n",
              "      <td>L227648</td>\n",
              "      <td>u998</td>\n",
              "      <td>m65</td>\n",
              "      <td>KATE</td>\n",
              "      <td>Creepy guy.</td>\n",
              "      <td>from dusk till dawn</td>\n",
              "      <td>F</td>\n",
              "      <td>4</td>\n",
              "    </tr>\n",
              "    <tr>\n",
              "      <th>127695</th>\n",
              "      <td>L227500</td>\n",
              "      <td>u998</td>\n",
              "      <td>m65</td>\n",
              "      <td>KATE</td>\n",
              "      <td>Feel this real wood paneling. That's real wood...</td>\n",
              "      <td>from dusk till dawn</td>\n",
              "      <td>F</td>\n",
              "      <td>4</td>\n",
              "    </tr>\n",
              "    <tr>\n",
              "      <th>127696</th>\n",
              "      <td>L227498</td>\n",
              "      <td>u998</td>\n",
              "      <td>m65</td>\n",
              "      <td>KATE</td>\n",
              "      <td>-- you got your shower --</td>\n",
              "      <td>from dusk till dawn</td>\n",
              "      <td>F</td>\n",
              "      <td>4</td>\n",
              "    </tr>\n",
              "    <tr>\n",
              "      <th>127697</th>\n",
              "      <td>L227496</td>\n",
              "      <td>u998</td>\n",
              "      <td>m65</td>\n",
              "      <td>KATE</td>\n",
              "      <td>-- you got your microwave --</td>\n",
              "      <td>from dusk till dawn</td>\n",
              "      <td>F</td>\n",
              "      <td>4</td>\n",
              "    </tr>\n",
              "  </tbody>\n",
              "</table>\n",
              "<p>127510 rows × 8 columns</p>\n",
              "</div>"
            ],
            "text/plain": [
              "        line_ID char_Id mov_Id  ...                    mov_Name gender pos_Credits\n",
              "0         L1045      u0     m0  ...  10 things i hate about you      F           4\n",
              "1          L985      u0     m0  ...  10 things i hate about you      F           4\n",
              "2          L925      u0     m0  ...  10 things i hate about you      F           4\n",
              "3          L872      u0     m0  ...  10 things i hate about you      F           4\n",
              "4          L869      u0     m0  ...  10 things i hate about you      F           4\n",
              "...         ...     ...    ...  ...                         ...    ...         ...\n",
              "127693  L227685    u998    m65  ...         from dusk till dawn      F           4\n",
              "127694  L227648    u998    m65  ...         from dusk till dawn      F           4\n",
              "127695  L227500    u998    m65  ...         from dusk till dawn      F           4\n",
              "127696  L227498    u998    m65  ...         from dusk till dawn      F           4\n",
              "127697  L227496    u998    m65  ...         from dusk till dawn      F           4\n",
              "\n",
              "[127510 rows x 8 columns]"
            ]
          },
          "metadata": {},
          "execution_count": 21
        }
      ]
    },
    {
      "cell_type": "markdown",
      "metadata": {
        "id": "vH42HEVxo8H4"
      },
      "source": [
        "<h2> Data Visualization<h2>"
      ]
    },
    {
      "cell_type": "markdown",
      "metadata": {
        "id": "VSlNaKYLwJnH"
      },
      "source": [
        "Creating a function to get the bar values which we can put it in countplots."
      ]
    },
    {
      "cell_type": "code",
      "metadata": {
        "id": "zAZnUJkLq8A8"
      },
      "source": [
        "def annot_plot(ax,w,h):                                    # function to add data to plot\n",
        "    ax.spines['top'].set_visible(False)\n",
        "    ax.spines['right'].set_visible(False)\n",
        "    for p in ax.patches:\n",
        "        ax.annotate('{0:.1f}'.format(p.get_height()), (p.get_x()+w, p.get_height()+h))"
      ],
      "execution_count": 40,
      "outputs": []
    },
    {
      "cell_type": "markdown",
      "metadata": {
        "id": "TzAvuGyYwTC6"
      },
      "source": [
        "Visualizing the number of Male and Female present in our merged dataset. As per the graph, we can easily interpret that the dataset contains more dialogues of Males than Females."
      ]
    },
    {
      "cell_type": "code",
      "metadata": {
        "colab": {
          "base_uri": "https://localhost:8080/",
          "height": 606
        },
        "id": "1CnkgBgBpB0h",
        "outputId": "b6d5a0f9-4f99-485c-e924-819c59203208"
      },
      "source": [
        "plt.figure(figsize=(11,10))\n",
        "ax = sns.countplot(x='gender',data=df_merge,palette='Set1')\n",
        "annot_plot(ax,0.2,1)\n",
        "plt.show()"
      ],
      "execution_count": 46,
      "outputs": [
        {
          "output_type": "display_data",
          "data": {
            "image/png": "[encoded data removed]",
            "text/plain": [
              "<Figure size 792x720 with 1 Axes>"
            ]
          },
          "metadata": {
            "needs_background": "light"
          }
        }
      ]
    },
    {
      "cell_type": "markdown",
      "metadata": {
        "id": "LaFRS8K1wswE"
      },
      "source": [
        "Visualizing the number of unique values present in pos_credit column."
      ]
    },
    {
      "cell_type": "code",
      "metadata": {
        "colab": {
          "base_uri": "https://localhost:8080/",
          "height": 447
        },
        "id": "IBRALFdgpBuU",
        "outputId": "7aa5d959-b8a4-45e9-dc29-caae3a963fbb"
      },
      "source": [
        "\n",
        "plt.figure(figsize=(18,7))\n",
        "#Setting the limits for countplot shown below.\n",
        "plt.ylim(0,60000)\n",
        "#Creating a countplot to show 'pos_Credits'\n",
        "ax = sns.countplot(x='pos_Credits',data=df_merge,palette='Set2')\n",
        "#ploting the graph.\n",
        "annot_plot(ax,0.2,1)\n",
        "plt.show()\n"
      ],
      "execution_count": 43,
      "outputs": [
        {
          "output_type": "display_data",
          "data": {
            "image/png": "[encoded data removed]",
            "text/plain": [
              "<Figure size 1296x504 with 1 Axes>"
            ]
          },
          "metadata": {
            "needs_background": "light"
          }
        }
      ]
    },
    {
      "cell_type": "markdown",
      "metadata": {
        "id": "VE-V3zbmkxqE"
      },
      "source": [
        "<h2> Feature Engineering<h2>"
      ]
    },
    {
      "cell_type": "markdown",
      "metadata": {
        "id": "cI1tfiFlkY8k"
      },
      "source": [
        "Now as our data set is quite big in terms of number of records. We will classify the data on our sample set. Sample set is basically a subset of the data set which we have. We will be using 20 percent of the sampled data from our data set for preiction."
      ]
    },
    {
      "cell_type": "code",
      "metadata": {
        "colab": {
          "base_uri": "https://localhost:8080/"
        },
        "id": "iJyU5ucLSEcY",
        "outputId": "1ac953b3-3148-4617-c727-1169e38416f2"
      },
      "source": [
        "# here you get 20 % of the rows\n",
        "samp_df = df_merge.sample(frac = 0.2)\n",
        "samp_df.shape"
      ],
      "execution_count": 22,
      "outputs": [
        {
          "output_type": "execute_result",
          "data": {
            "text/plain": [
              "(25540, 8)"
            ]
          },
          "metadata": {},
          "execution_count": 22
        }
      ]
    },
    {
      "cell_type": "markdown",
      "metadata": {
        "id": "yjYpHY_QladP"
      },
      "source": [
        "Using Natural Language Processing for the dialogue column."
      ]
    },
    {
      "cell_type": "code",
      "metadata": {
        "colab": {
          "base_uri": "https://localhost:8080/",
          "height": 203
        },
        "id": "CuPqGSitRJca",
        "outputId": "734c52c9-7012-43e6-9d8e-9ea3337e660e"
      },
      "source": [
        "#Initialising the WorNetLemmatizer Object\n",
        "wordnet_lemmatizer = WordNetLemmatizer()\n",
        "def apply_nlp( dialogue ):\n",
        "    # Function to convert a raw review to a string of words\n",
        "    # The input is a single string (a raw movie review), and \n",
        "    # the output is a single string (a preprocessed movie review)\n",
        "    \n",
        "    # Remove non-letters        \n",
        "    letters_only = re.sub(\"[^a-zA-Z]\", \" \", str(dialogue))\n",
        "    \n",
        "    # Convert to lower case, split into individual words\n",
        "    words = letters_only.lower().split()                             \n",
        "    \n",
        "    # In Python, searching a set is much faster than searching\n",
        "    #   a list, so convert the stop words to a set\n",
        "    stops = set(stopwords.words(\"english\"))   \n",
        "    \n",
        "    # Use lemmatization and remove stop words\n",
        "    meaningful_words = [wordnet_lemmatizer.lemmatize(w) for w in words if not w in stops]   \n",
        "    #\n",
        "    # Join the words back into one string separated by space, \n",
        "    # and return the result.\n",
        "    return( \" \".join( meaningful_words ))\n",
        "\n",
        "samp_df['processed_dialogue'] = samp_df['dialogue'].apply(apply_nlp)\n",
        "samp_df[['dialogue','processed_dialogue']].tail()"
      ],
      "execution_count": 24,
      "outputs": [
        {
          "output_type": "execute_result",
          "data": {
            "text/html": [
              "<div>\n",
              "<style scoped>\n",
              "    .dataframe tbody tr th:only-of-type {\n",
              "        vertical-align: middle;\n",
              "    }\n",
              "\n",
              "    .dataframe tbody tr th {\n",
              "        vertical-align: top;\n",
              "    }\n",
              "\n",
              "    .dataframe thead th {\n",
              "        text-align: right;\n",
              "    }\n",
              "</style>\n",
              "<table border=\"1\" class=\"dataframe\">\n",
              "  <thead>\n",
              "    <tr style=\"text-align: right;\">\n",
              "      <th></th>\n",
              "      <th>dialogue</th>\n",
              "      <th>processed_dialogue</th>\n",
              "    </tr>\n",
              "  </thead>\n",
              "  <tbody>\n",
              "    <tr>\n",
              "      <th>7025</th>\n",
              "      <td>Baron we must have gone a hundred miles an hou...</td>\n",
              "      <td>baron must gone hundred mile hour least</td>\n",
              "    </tr>\n",
              "    <tr>\n",
              "      <th>90651</th>\n",
              "      <td>C'mon Jennifer he's just another North-Side ja...</td>\n",
              "      <td>c mon jennifer another north side jag mouth</td>\n",
              "    </tr>\n",
              "    <tr>\n",
              "      <th>97950</th>\n",
              "      <td>Hmm. Not bad.</td>\n",
              "      <td>hmm bad</td>\n",
              "    </tr>\n",
              "    <tr>\n",
              "      <th>22984</th>\n",
              "      <td>...Later.</td>\n",
              "      <td>later</td>\n",
              "    </tr>\n",
              "    <tr>\n",
              "      <th>77779</th>\n",
              "      <td>Yeah. Oh yeah. Yeah I see. I guess-</td>\n",
              "      <td>yeah oh yeah yeah see guess</td>\n",
              "    </tr>\n",
              "  </tbody>\n",
              "</table>\n",
              "</div>"
            ],
            "text/plain": [
              "                                                dialogue                           processed_dialogue\n",
              "7025   Baron we must have gone a hundred miles an hou...      baron must gone hundred mile hour least\n",
              "90651  C'mon Jennifer he's just another North-Side ja...  c mon jennifer another north side jag mouth\n",
              "97950                                      Hmm. Not bad.                                      hmm bad\n",
              "22984                                          ...Later.                                        later\n",
              "77779                Yeah. Oh yeah. Yeah I see. I guess-                  yeah oh yeah yeah see guess"
            ]
          },
          "metadata": {},
          "execution_count": 24
        }
      ]
    },
    {
      "cell_type": "markdown",
      "metadata": {
        "id": "WpspYNoAl-pP"
      },
      "source": [
        "Applying the processed dialogue to Term Frequency-Inverse Document Frequency to convert into an arrays.(Bascially we are changing Categorical values to numercial values)"
      ]
    },
    {
      "cell_type": "code",
      "metadata": {
        "id": "hhZwlI_fRJfu"
      },
      "source": [
        "from sklearn.feature_extraction.text import TfidfVectorizer\n",
        "tfidf = TfidfVectorizer()\n",
        "X = samp_df['processed_dialogue']\n",
        "X = tfidf.fit_transform(X).toarray()"
      ],
      "execution_count": 25,
      "outputs": []
    },
    {
      "cell_type": "markdown",
      "metadata": {
        "id": "83hjG2jtmW76"
      },
      "source": [
        "Replacing values of Males(M) and Females(F) to 0 & 1 respectively."
      ]
    },
    {
      "cell_type": "code",
      "metadata": {
        "id": "kz-lThyTRJiF"
      },
      "source": [
        "samp_df.replace('M','0',inplace = True)\n",
        "samp_df.replace('F','1',inplace = True)\n",
        "y = samp_df['gender']\n",
        "y = y.values"
      ],
      "execution_count": 27,
      "outputs": []
    },
    {
      "cell_type": "markdown",
      "metadata": {
        "id": "di9gmbSpmgsr"
      },
      "source": [
        "<h2>Predictive Analytics<h2>"
      ]
    },
    {
      "cell_type": "markdown",
      "metadata": {
        "id": "9kB3fu4AmuJK"
      },
      "source": [
        "Using train_test_Split to divide our data into training and testing set."
      ]
    },
    {
      "cell_type": "code",
      "metadata": {
        "colab": {
          "base_uri": "https://localhost:8080/"
        },
        "id": "PQrgOlt5TxvM",
        "outputId": "0df79355-b4cd-4ac7-a844-e9f8fa2b006f"
      },
      "source": [
        "from sklearn.model_selection import train_test_split\n",
        "X_train, X_test, y_train, y_test = train_test_split(X, y, test_size=0.20, random_state=0)\n",
        "print('X_train size: {}, X_test size: {}'.format(X_train.shape, X_test.shape))"
      ],
      "execution_count": 28,
      "outputs": [
        {
          "output_type": "stream",
          "name": "stdout",
          "text": [
            "X_train size: (20432, 12940), X_test size: (5108, 12940)\n"
          ]
        }
      ]
    },
    {
      "cell_type": "markdown",
      "metadata": {
        "id": "_wayQ1Pbm24f"
      },
      "source": [
        "Initializing model objects. We will be using sevral models and will check in which model we get higher accuracy."
      ]
    },
    {
      "cell_type": "code",
      "metadata": {
        "id": "3EepQBuXT202"
      },
      "source": [
        "nb_classifier = MultinomialNB()\n",
        "svc_classifier = LinearSVC()\n",
        "log_classifier = LogisticRegression()\n",
        "rf_classifier = RandomForestClassifier()"
      ],
      "execution_count": 29,
      "outputs": []
    },
    {
      "cell_type": "markdown",
      "metadata": {
        "id": "kVAd-ZTHnCzb"
      },
      "source": [
        "Fitting the trained data in the model objects with the help of fit function."
      ]
    },
    {
      "cell_type": "code",
      "metadata": {
        "colab": {
          "base_uri": "https://localhost:8080/"
        },
        "id": "CSbDDcMoT8ir",
        "outputId": "a99d6c9e-272d-45db-aa47-eb566d53cdf2"
      },
      "source": [
        "nb_classifier.fit(X_train, y_train)\n",
        "svc_classifier.fit(X_train, y_train)\n",
        "log_classifier.fit(X_train, y_train)\n",
        "rf_classifier.fit(X_train, y_train)"
      ],
      "execution_count": 30,
      "outputs": [
        {
          "output_type": "execute_result",
          "data": {
            "text/plain": [
              "RandomForestClassifier()"
            ]
          },
          "metadata": {},
          "execution_count": 30
        }
      ]
    },
    {
      "cell_type": "markdown",
      "metadata": {
        "id": "o0Q_hUWjnPAJ"
      },
      "source": [
        "Predicting the values/gender based on our test data with the help of predict command storing it into variables such as nb_y_pred."
      ]
    },
    {
      "cell_type": "code",
      "metadata": {
        "id": "qNfdHM3xVYjO"
      },
      "source": [
        "nb_y_pred = nb_classifier.predict(X_test)\n",
        "svc_y_pred = svc_classifier.predict(X_test)\n",
        "log_y_pred = log_classifier.predict(X_test)\n",
        "rf_y_pred = rf_classifier.predict(X_test)"
      ],
      "execution_count": 31,
      "outputs": []
    },
    {
      "cell_type": "markdown",
      "metadata": {
        "id": "RfpT_h2Rncjc"
      },
      "source": [
        "Checking the accuracy score of the models with help of accracy score which is in metrics package which is present in sklearn."
      ]
    },
    {
      "cell_type": "code",
      "metadata": {
        "colab": {
          "base_uri": "https://localhost:8080/"
        },
        "id": "GSRy4UL3T_Cv",
        "outputId": "310e36f3-b98e-4d21-bd4e-44524006a129"
      },
      "source": [
        "from sklearn.metrics import accuracy_score\n",
        "score1 = accuracy_score(y_test, nb_y_pred)\n",
        "score2 = accuracy_score(y_test, svc_y_pred)\n",
        "score3 = accuracy_score(y_test, log_y_pred)\n",
        "score4 = accuracy_score(y_test, rf_y_pred)\n",
        "print(\"---- Score of ML Models ----\")\n",
        "print(\"Accuracy score of Multinomial NB is: {}%\".format(round(score1*100,2)))\n",
        "print(\"Accuracy score of Linear SVM Classifier is: {}%\".format(round(score2*100,2)))\n",
        "print(\"Accuracy score of Logistic Regression model is: {}%\".format(round(score3*100,2)))\n",
        "print(\"Accuracy score of Random Forest Classifier is: {}%\".format(round(score4*100,2)))"
      ],
      "execution_count": 33,
      "outputs": [
        {
          "output_type": "stream",
          "name": "stdout",
          "text": [
            "---- Score of ML Models ----\n",
            "Accuracy score of Multinomial NB is: 70.4%\n",
            "Accuracy score of Linear SVM Classifier is: 68.64%\n",
            "Accuracy score of Logistic Regression model is: 70.91%\n",
            "Accuracy score of Random Forest Classifier is: 68.89%\n"
          ]
        }
      ]
    },
    {
      "cell_type": "markdown",
      "metadata": {
        "id": "zPPpjsNGnqk5"
      },
      "source": [
        "Checking the classification report of the models with help of classification report function. It will basically give us the F1 score, precision and recall result."
      ]
    },
    {
      "cell_type": "code",
      "metadata": {
        "colab": {
          "base_uri": "https://localhost:8080/"
        },
        "id": "EVFgTHifY3Iq",
        "outputId": "c4251c84-f82e-4a2c-eb26-4b919a8369f3"
      },
      "source": [
        "print('classification_report of Multinomial NB is: ')\n",
        "print(classification_report(y_test,nb_y_pred))\n",
        "print('classification_report of Linear SVM is: ')\n",
        "print(classification_report(y_test,svc_y_pred))\n",
        "print('classification_report of Logistic Regression model is: ')\n",
        "print(classification_report(y_test,log_y_pred))\n",
        "print('classification_report of Random Forest Classifier model is: ')\n",
        "print(classification_report(y_test,rf_y_pred))"
      ],
      "execution_count": 34,
      "outputs": [
        {
          "output_type": "stream",
          "name": "stdout",
          "text": [
            "classification_report of Multinomial NB is: \n",
            "              precision    recall  f1-score   support\n",
            "\n",
            "           0       0.71      0.99      0.82      3602\n",
            "           1       0.46      0.03      0.05      1506\n",
            "\n",
            "    accuracy                           0.70      5108\n",
            "   macro avg       0.59      0.51      0.44      5108\n",
            "weighted avg       0.64      0.70      0.60      5108\n",
            "\n",
            "classification_report of Linear SVM is: \n",
            "              precision    recall  f1-score   support\n",
            "\n",
            "           0       0.72      0.90      0.80      3602\n",
            "           1       0.42      0.17      0.24      1506\n",
            "\n",
            "    accuracy                           0.69      5108\n",
            "   macro avg       0.57      0.53      0.52      5108\n",
            "weighted avg       0.63      0.69      0.64      5108\n",
            "\n",
            "classification_report of Logistic Regression model is: \n",
            "              precision    recall  f1-score   support\n",
            "\n",
            "           0       0.71      0.98      0.83      3602\n",
            "           1       0.57      0.05      0.10      1506\n",
            "\n",
            "    accuracy                           0.71      5108\n",
            "   macro avg       0.64      0.52      0.46      5108\n",
            "weighted avg       0.67      0.71      0.61      5108\n",
            "\n",
            "classification_report of Random Forest Classifier model is: \n",
            "              precision    recall  f1-score   support\n",
            "\n",
            "           0       0.72      0.93      0.81      3602\n",
            "           1       0.40      0.12      0.18      1506\n",
            "\n",
            "    accuracy                           0.69      5108\n",
            "   macro avg       0.56      0.52      0.49      5108\n",
            "weighted avg       0.62      0.69      0.62      5108\n",
            "\n"
          ]
        }
      ]
    },
    {
      "cell_type": "markdown",
      "metadata": {
        "id": "D0AP--Ehc8iO"
      },
      "source": [
        "<h2>Obersvation:<h2> From the above output we can clearly depict that random forest model has given the highest accuracy and Multinomial NB has also performed simiarly. I hope that by following this notebook, you would have got the fair idea on how to approach a problem or use cases and go step by step which in turn will yeild good results.\n",
        "Happy Learning!!"
      ]
    }
  ]
}